{
 "cells": [
  {
   "cell_type": "markdown",
   "metadata": {
    "id": "IDG3qIpW82k3"
   },
   "source": [
    "Name :Abdulrahman Almyman\n",
    "\n",
    "ID:\n",
    "\n",
    "Rank Sort is an algorithm for sorting a vector based on the rank of each element in the vector.\n",
    "\n",
    "// Rank Sort Idea: https://mobylab.docs.crescdi.pub.ro/en/docs/parallelAndDistributed/laboratory9/rankSort/\n",
    "\n",
    "//How To Run CUDA C or C++ on Google Colab or Azure Notebook : https://harshityadav95.medium.com/how-to-run-cuda-c-or-c-on-google-colab-or-azure-notebook-ea75a23a5962\n",
    "\n",
    "// LINK Colab : https://colab.research.google.com/drive/1hev7e8QseO9B__LONuAAbRduiMefUN32?usp=sharing"
   ]
  },
  {
   "cell_type": "code",
   "execution_count": null,
   "metadata": {
    "colab": {
     "base_uri": "https://localhost:8080/",
     "height": 0
    },
    "id": "JkYZrldf8_Iu",
    "outputId": "fa25f565-a8d2-4fd0-ca93-60b5ef09b189",
    "scrolled": true
   },
   "outputs": [],
   "source": [
    "!apt-get --purge remove cuda nvidia* libnvidia-*\n",
    "!dpkg -l | grep cuda- | awk '{print $2}' | xargs -n1 dpkg --purge\n",
    "!apt-get remove cuda-*\n",
    "!apt autoremove\n",
    "!apt-get update"
   ]
  },
  {
   "cell_type": "code",
   "execution_count": null,
   "metadata": {
    "colab": {
     "base_uri": "https://localhost:8080/",
     "height": 0
    },
    "id": "1hzDE8uv90SH",
    "outputId": "2116f7b0-79d9-4155-9228-12217799077f"
   },
   "outputs": [],
   "source": [
    "!wget https://developer.nvidia.com/compute/cuda/9.2/Prod/local_installers/cuda-repo-ubuntu1604-9-2-local_9.2.88-1_amd64 -O cuda-repo-ubuntu1604-9-2-local_9.2.88-1_amd64.deb\n",
    "!dpkg -i cuda-repo-ubuntu1604-9-2-local_9.2.88-1_amd64.deb\n",
    "!apt-key add /var/cuda-repo-9-2-local/7fa2af80.pub\n",
    "!apt-get update"
   ]
  },
  {
   "cell_type": "code",
   "execution_count": null,
   "metadata": {
    "colab": {
     "base_uri": "https://localhost:8080/",
     "height": 0
    },
    "id": "1hzDE8uv90SH",
    "outputId": "2116f7b0-79d9-4155-9228-12217799077f"
   },
   "outputs": [],
   "source": [
    "!apt-get install cuda-9.2"
   ]
  },
  {
   "cell_type": "code",
   "execution_count": null,
   "metadata": {
    "colab": {
     "base_uri": "https://localhost:8080/",
     "height": 0
    },
    "id": "OH2h3tAc-C-e",
    "outputId": "1981532e-c152-463a-965e-627bc8133834"
   },
   "outputs": [],
   "source": [
    "!apt-get install -y nvidia-cuda-toolkit"
   ]
  },
  {
   "cell_type": "code",
   "execution_count": 39,
   "metadata": {
    "colab": {
     "base_uri": "https://localhost:8080/",
     "height": 0
    },
    "id": "srkv4RFX_JMH",
    "outputId": "ebcd3e14-f8bf-4a1f-a774-222465675615",
    "scrolled": true
   },
   "outputs": [
    {
     "name": "stdout",
     "output_type": "stream",
     "text": [
      "nvcc: NVIDIA (R) Cuda compiler driver\n",
      "Copyright (c) 2005-2021 NVIDIA Corporation\n",
      "Built on Thu_Nov_18_09:45:30_PST_2021\n",
      "Cuda compilation tools, release 11.5, V11.5.119\n",
      "Build cuda_11.5.r11.5/compiler.30672275_0\n"
     ]
    }
   ],
   "source": [
    "!nvcc --version"
   ]
  },
  {
   "cell_type": "code",
   "execution_count": null,
   "metadata": {
    "colab": {
     "base_uri": "https://localhost:8080/",
     "height": 0
    },
    "id": "egk52jPa_N9u",
    "outputId": "096431b0-ce32-409d-e6cc-8901cdfa33f9"
   },
   "outputs": [],
   "source": [
    "!pip install nvcc4jupyter==1.0.0"
   ]
  },
  {
   "cell_type": "code",
   "execution_count": null,
   "metadata": {
    "colab": {
     "base_uri": "https://localhost:8080/",
     "height": 0
    },
    "id": "uUApMUaeB8ov",
    "outputId": "2fca4048-e922-4a8b-f0c8-16113cbf9274"
   },
   "outputs": [],
   "source": [
    "!pip install nvcc4jupyter"
   ]
  },
  {
   "cell_type": "code",
   "execution_count": 42,
   "metadata": {
    "colab": {
     "base_uri": "https://localhost:8080/",
     "height": 0
    },
    "id": "5j8vOwrSAeBX",
    "outputId": "ff5853d9-37af-4db7-feec-cfa66a0a34f3"
   },
   "outputs": [
    {
     "name": "stdout",
     "output_type": "stream",
     "text": [
      "The nvcc4jupyter extension is already loaded. To reload it, use:\n",
      "  %reload_ext nvcc4jupyter\n"
     ]
    }
   ],
   "source": [
    "%load_ext nvcc4jupyter\n"
   ]
  },
  {
   "cell_type": "code",
   "execution_count": 48,
   "metadata": {
    "colab": {
     "base_uri": "https://localhost:8080/",
     "height": 0
    },
    "id": "_-e42oRhAieG",
    "outputId": "3635b587-51ce-4628-b0b2-e1074bb263b0"
   },
   "outputs": [
    {
     "name": "stdout",
     "output_type": "stream",
     "text": [
      "The Original Sort : 13 1 12 10 8 10 1 12 9 1 2 7 5 4 8 \n",
      "the sort after using rankSort: 1 1 1 2 4 5 7 8 8 9 10 10 12 12 13 \n",
      "Done!!\n",
      "\n"
     ]
    }
   ],
   "source": [
    "%%cuda\n",
    "\n",
    "\n",
    "\n",
    "#include \"cuda_runtime.h\"\n",
    "#include \"device_launch_parameters.h\"\n",
    "#include <stdio.h>\n",
    "#include <stdio.h>\n",
    "#include <cuda.h>\n",
    "#include <stdlib.h>\n",
    "\n",
    "#define N 15 // Array size for any number\n",
    "int step = 0;\n",
    "__global__ void rankSort(int* d_input, int* d_output, int n) {\n",
    "    //find the corresponding array index of the thread\n",
    "    int index = blockIdx.x * blockDim.x + threadIdx.x;\n",
    "    //check if thread is inside the bounds of array\n",
    "    if (index >= n)\n",
    "        return;\n",
    "    //initialize rank to 0\n",
    "    int rank = 0;\n",
    "    //store the value of array cell\n",
    "    int cell = d_input[index];\n",
    "    //increment rank for each element less than or equal to d_input[index], and with index i < index\n",
    "    for (int i = 0; i < index; i++) {\n",
    "        if (d_input[i] <= cell)\n",
    "            rank++;\n",
    "    }\n",
    "    //increment rank for each element less than d_input[index], and with index i > index\n",
    "    for (int i = index + 1; i < n; i++) {\n",
    "        if (d_input[i] < cell)\n",
    "            rank++;\n",
    "    }\n",
    "    //store d_input[index] in the correct index in the output array\n",
    "    d_output[rank] = cell;\n",
    "\n",
    "}\n",
    "\n",
    "void printNumbers(int* array, int n) {\n",
    "    for (int i = 0; i < n; i++) {\n",
    "        printf(\"%d \", array[i]);\n",
    "    }\n",
    "}\n",
    "\n",
    "void generateRandom(int* array, int n, int range) {\n",
    "    for (int i = 0; i < n; i++) {\n",
    "        array[i] = rand() % range;\n",
    "    }\n",
    "}\n",
    "\n",
    "int main() {\n",
    "    int h_input[N];\n",
    "    int h_output[N];\n",
    "    int* d_input, * d_output;\n",
    "\n",
    "    generateRandom(h_input, N, N);\n",
    "    printf(\"The Original Sort : \");\n",
    "    printNumbers(h_input, N);\n",
    "    printf(\"\\n\");\n",
    "\n",
    "    cudaMalloc((void**)&d_input, N * sizeof(int));\n",
    "    cudaMalloc((void**)&d_output, N * sizeof(int));\n",
    "\n",
    "    cudaMemcpy(d_input, h_input, N * sizeof(int), cudaMemcpyHostToDevice);\n",
    "    //\n",
    "    int n_Blocks = (N + 1023) / 1024;\n",
    "    //\n",
    "    int n_Threads = 1024;\n",
    "\n",
    "    rankSort << <n_Blocks, n_Threads >> > (d_input, d_output, N);\n",
    "    //Because calling the non blocking function, each process must wait for the d_output result to be correct\n",
    "    cudaDeviceSynchronize();\n",
    "    //\n",
    "    cudaMemcpy(h_output, d_output, N * sizeof(int), cudaMemcpyDeviceToHost);\n",
    "    printf(\"the sort after using rankSort: \");\n",
    "    printNumbers(h_output, N);\n",
    "\n",
    "    printf(\"\\nDone!!\\n\");\n",
    "    cudaFree(d_input);\n",
    "    cudaFree(d_output);\n",
    "    //printf(\"%d\",rand());\n",
    "\n",
    "    return 0;\n",
    "}"
   ]
  }
 ],
 "metadata": {
  "accelerator": "GPU",
  "colab": {
   "gpuType": "T4",
   "provenance": []
  },
  "kernelspec": {
   "display_name": "Python 3 (ipykernel)",
   "language": "python",
   "name": "python3"
  },
  "language_info": {
   "codemirror_mode": {
    "name": "ipython",
    "version": 3
   },
   "file_extension": ".py",
   "mimetype": "text/x-python",
   "name": "python",
   "nbconvert_exporter": "python",
   "pygments_lexer": "ipython3",
   "version": "3.12.3"
  }
 },
 "nbformat": 4,
 "nbformat_minor": 4
}
